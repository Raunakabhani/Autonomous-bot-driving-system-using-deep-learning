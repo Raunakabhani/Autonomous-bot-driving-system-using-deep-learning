{
  "cells": [
    {
      "cell_type": "code",
      "execution_count": null,
      "metadata": {
        "id": "SwsUjMIShL3k",
        "colab": {
          "base_uri": "https://localhost:8080/"
        },
        "outputId": "1a1b9e33-280f-4201-aeaa-2214a1b38c44"
      },
      "outputs": [
        {
          "output_type": "stream",
          "name": "stdout",
          "text": [
            "Looking in indexes: https://pypi.org/simple, https://us-python.pkg.dev/colab-wheels/public/simple/\n",
            "Requirement already satisfied: tensorflow==1.14.0 in /usr/local/lib/python3.7/dist-packages (1.14.0)\n",
            "Requirement already satisfied: tensorboard<1.15.0,>=1.14.0 in /usr/local/lib/python3.7/dist-packages (from tensorflow==1.14.0) (1.14.0)\n",
            "Requirement already satisfied: google-pasta>=0.1.6 in /usr/local/lib/python3.7/dist-packages (from tensorflow==1.14.0) (0.2.0)\n",
            "Requirement already satisfied: grpcio>=1.8.6 in /usr/local/lib/python3.7/dist-packages (from tensorflow==1.14.0) (1.49.1)\n",
            "Requirement already satisfied: gast>=0.2.0 in /usr/local/lib/python3.7/dist-packages (from tensorflow==1.14.0) (0.4.0)\n",
            "Requirement already satisfied: absl-py>=0.7.0 in /usr/local/lib/python3.7/dist-packages (from tensorflow==1.14.0) (1.2.0)\n",
            "Requirement already satisfied: astor>=0.6.0 in /usr/local/lib/python3.7/dist-packages (from tensorflow==1.14.0) (0.8.1)\n",
            "Requirement already satisfied: six>=1.10.0 in /usr/local/lib/python3.7/dist-packages (from tensorflow==1.14.0) (1.15.0)\n",
            "Requirement already satisfied: protobuf>=3.6.1 in /usr/local/lib/python3.7/dist-packages (from tensorflow==1.14.0) (3.17.3)\n",
            "Requirement already satisfied: numpy<2.0,>=1.14.5 in /usr/local/lib/python3.7/dist-packages (from tensorflow==1.14.0) (1.21.6)\n",
            "Requirement already satisfied: keras-preprocessing>=1.0.5 in /usr/local/lib/python3.7/dist-packages (from tensorflow==1.14.0) (1.1.2)\n",
            "Requirement already satisfied: wrapt>=1.11.1 in /usr/local/lib/python3.7/dist-packages (from tensorflow==1.14.0) (1.14.1)\n",
            "Requirement already satisfied: tensorflow-estimator<1.15.0rc0,>=1.14.0rc0 in /usr/local/lib/python3.7/dist-packages (from tensorflow==1.14.0) (1.14.0)\n",
            "Requirement already satisfied: wheel>=0.26 in /usr/local/lib/python3.7/dist-packages (from tensorflow==1.14.0) (0.37.1)\n",
            "Requirement already satisfied: keras-applications>=1.0.6 in /usr/local/lib/python3.7/dist-packages (from tensorflow==1.14.0) (1.0.8)\n",
            "Requirement already satisfied: termcolor>=1.1.0 in /usr/local/lib/python3.7/dist-packages (from tensorflow==1.14.0) (2.0.1)\n",
            "Requirement already satisfied: h5py in /usr/local/lib/python3.7/dist-packages (from keras-applications>=1.0.6->tensorflow==1.14.0) (3.1.0)\n",
            "Requirement already satisfied: setuptools>=41.0.0 in /usr/local/lib/python3.7/dist-packages (from tensorboard<1.15.0,>=1.14.0->tensorflow==1.14.0) (57.4.0)\n",
            "Requirement already satisfied: markdown>=2.6.8 in /usr/local/lib/python3.7/dist-packages (from tensorboard<1.15.0,>=1.14.0->tensorflow==1.14.0) (3.4.1)\n",
            "Requirement already satisfied: werkzeug>=0.11.15 in /usr/local/lib/python3.7/dist-packages (from tensorboard<1.15.0,>=1.14.0->tensorflow==1.14.0) (1.0.1)\n",
            "Requirement already satisfied: importlib-metadata>=4.4 in /usr/local/lib/python3.7/dist-packages (from markdown>=2.6.8->tensorboard<1.15.0,>=1.14.0->tensorflow==1.14.0) (5.0.0)\n",
            "Requirement already satisfied: zipp>=0.5 in /usr/local/lib/python3.7/dist-packages (from importlib-metadata>=4.4->markdown>=2.6.8->tensorboard<1.15.0,>=1.14.0->tensorflow==1.14.0) (3.9.0)\n",
            "Requirement already satisfied: typing-extensions>=3.6.4 in /usr/local/lib/python3.7/dist-packages (from importlib-metadata>=4.4->markdown>=2.6.8->tensorboard<1.15.0,>=1.14.0->tensorflow==1.14.0) (4.1.1)\n",
            "Requirement already satisfied: cached-property in /usr/local/lib/python3.7/dist-packages (from h5py->keras-applications>=1.0.6->tensorflow==1.14.0) (1.5.2)\n"
          ]
        },
        {
          "output_type": "stream",
          "name": "stderr",
          "text": [
            "/usr/local/lib/python3.7/dist-packages/tensorflow/python/framework/dtypes.py:516: FutureWarning: Passing (type, 1) or '1type' as a synonym of type is deprecated; in a future version of numpy, it will be understood as (type, (1,)) / '(1,)type'.\n",
            "  _np_qint8 = np.dtype([(\"qint8\", np.int8, 1)])\n",
            "/usr/local/lib/python3.7/dist-packages/tensorflow/python/framework/dtypes.py:517: FutureWarning: Passing (type, 1) or '1type' as a synonym of type is deprecated; in a future version of numpy, it will be understood as (type, (1,)) / '(1,)type'.\n",
            "  _np_quint8 = np.dtype([(\"quint8\", np.uint8, 1)])\n",
            "/usr/local/lib/python3.7/dist-packages/tensorflow/python/framework/dtypes.py:518: FutureWarning: Passing (type, 1) or '1type' as a synonym of type is deprecated; in a future version of numpy, it will be understood as (type, (1,)) / '(1,)type'.\n",
            "  _np_qint16 = np.dtype([(\"qint16\", np.int16, 1)])\n",
            "/usr/local/lib/python3.7/dist-packages/tensorflow/python/framework/dtypes.py:519: FutureWarning: Passing (type, 1) or '1type' as a synonym of type is deprecated; in a future version of numpy, it will be understood as (type, (1,)) / '(1,)type'.\n",
            "  _np_quint16 = np.dtype([(\"quint16\", np.uint16, 1)])\n",
            "/usr/local/lib/python3.7/dist-packages/tensorflow/python/framework/dtypes.py:520: FutureWarning: Passing (type, 1) or '1type' as a synonym of type is deprecated; in a future version of numpy, it will be understood as (type, (1,)) / '(1,)type'.\n",
            "  _np_qint32 = np.dtype([(\"qint32\", np.int32, 1)])\n",
            "/usr/local/lib/python3.7/dist-packages/tensorflow/python/framework/dtypes.py:525: FutureWarning: Passing (type, 1) or '1type' as a synonym of type is deprecated; in a future version of numpy, it will be understood as (type, (1,)) / '(1,)type'.\n",
            "  np_resource = np.dtype([(\"resource\", np.ubyte, 1)])\n",
            "/usr/local/lib/python3.7/dist-packages/tensorboard/compat/tensorflow_stub/dtypes.py:541: FutureWarning: Passing (type, 1) or '1type' as a synonym of type is deprecated; in a future version of numpy, it will be understood as (type, (1,)) / '(1,)type'.\n",
            "  _np_qint8 = np.dtype([(\"qint8\", np.int8, 1)])\n",
            "/usr/local/lib/python3.7/dist-packages/tensorboard/compat/tensorflow_stub/dtypes.py:542: FutureWarning: Passing (type, 1) or '1type' as a synonym of type is deprecated; in a future version of numpy, it will be understood as (type, (1,)) / '(1,)type'.\n",
            "  _np_quint8 = np.dtype([(\"quint8\", np.uint8, 1)])\n",
            "/usr/local/lib/python3.7/dist-packages/tensorboard/compat/tensorflow_stub/dtypes.py:543: FutureWarning: Passing (type, 1) or '1type' as a synonym of type is deprecated; in a future version of numpy, it will be understood as (type, (1,)) / '(1,)type'.\n",
            "  _np_qint16 = np.dtype([(\"qint16\", np.int16, 1)])\n",
            "/usr/local/lib/python3.7/dist-packages/tensorboard/compat/tensorflow_stub/dtypes.py:544: FutureWarning: Passing (type, 1) or '1type' as a synonym of type is deprecated; in a future version of numpy, it will be understood as (type, (1,)) / '(1,)type'.\n",
            "  _np_quint16 = np.dtype([(\"quint16\", np.uint16, 1)])\n",
            "/usr/local/lib/python3.7/dist-packages/tensorboard/compat/tensorflow_stub/dtypes.py:545: FutureWarning: Passing (type, 1) or '1type' as a synonym of type is deprecated; in a future version of numpy, it will be understood as (type, (1,)) / '(1,)type'.\n",
            "  _np_qint32 = np.dtype([(\"qint32\", np.int32, 1)])\n",
            "/usr/local/lib/python3.7/dist-packages/tensorboard/compat/tensorflow_stub/dtypes.py:550: FutureWarning: Passing (type, 1) or '1type' as a synonym of type is deprecated; in a future version of numpy, it will be understood as (type, (1,)) / '(1,)type'.\n",
            "  np_resource = np.dtype([(\"resource\", np.ubyte, 1)])\n"
          ]
        }
      ],
      "source": [
        "#importing libraries \n",
        "#implentation code need some packages of tensorflow which is available in version 1.14.0 so training is also done in same\n",
        "import os\n",
        "import pandas as pd\n",
        "import numpy as np\n",
        "import matplotlib.pyplot as plt\n",
        "from sklearn.utils import shuffle\n",
        "import cv2\n",
        "!pip install tensorflow==1.14.0\n",
        "from tensorflow.keras.models import Sequential\n",
        "from tensorflow.keras.layers import Convolution2D,Flatten,Dense\n",
        "from tensorflow.keras.optimizers import Adam\n",
        "\n",
        "import matplotlib.image as mpimg\n",
        "from imgaug import augmenters as iaa\n",
        "\n",
        "import random"
      ]
    },
    {
      "cell_type": "code",
      "execution_count": null,
      "metadata": {
        "id": "DMF3c-oUezN5"
      },
      "outputs": [],
      "source": [
        "#defining funtions \n",
        "\n",
        "#### STEP 1 - INITIALIZE DATA\n",
        "def getName(filePath):\n",
        "    myImagePathL = filePath.split('/')[-2:]\n",
        "    myImagePath = os.path.join(myImagePathL[0],myImagePathL[1])\n",
        "    return myImagePath\n",
        "\n",
        "def importDataInfo(path):\n",
        "    columns = ['Center','Steering']\n",
        "    noOfFolders = len(os.listdir(path))//2\n",
        "    data = pd.DataFrame()\n",
        "    for x in range(1,7):\n",
        "        dataNew = pd.read_csv(os.path.join(path, f'log_{x}.csv'), names = columns)\n",
        "        print(f'{x}:{dataNew.shape[0]} ',end='')\n",
        "        #### REMOVE FILE PATH AND GET ONLY FILE NAME\n",
        "        #print(getName(data['center'][0]))\n",
        "        dataNew['Center']=dataNew['Center'].apply(getName)\n",
        "        data =data.append(dataNew,True )\n",
        "    print(' ')\n",
        "    print('Total Images Imported',data.shape[0])\n",
        "    return data\n",
        "\n",
        "#### STEP 2 - VISUALIZE AND BALANCE DATA\n",
        "def balanceData(data,display=True):\n",
        "    nBin = 31\n",
        "    samplesPerBin = 400\n",
        "    hist, bins = np.histogram(data['Steering'], nBin)\n",
        "    if display:\n",
        "        center = (bins[:-1] + bins[1:]) * 0.5\n",
        "        plt.bar(center, hist, width=0.03)\n",
        "        plt.plot((np.min(data['Steering']), np.max(data['Steering'])), (samplesPerBin, samplesPerBin))\n",
        "        plt.title('Data Visualisation')\n",
        "        plt.xlabel('Steering Angle')\n",
        "        plt.ylabel('No of Samples')\n",
        "        plt.show()\n",
        "    removeindexList = []\n",
        "    for j in range(nBin):\n",
        "        binDataList = []\n",
        "        for i in range(len(data['Steering'])):\n",
        "            if data['Steering'][i] >= bins[j] and data['Steering'][i] <= bins[j + 1]:\n",
        "                binDataList.append(i)\n",
        "        binDataList = shuffle(binDataList)\n",
        "        binDataList = binDataList[samplesPerBin:]\n",
        "        removeindexList.extend(binDataList)\n",
        "\n",
        "    print('Removed Images:', len(removeindexList))\n",
        "    data.drop(data.index[removeindexList], inplace=True)\n",
        "    print('Remaining Images:', len(data))\n",
        "    if display:\n",
        "        hist, _ = np.histogram(data['Steering'], (nBin))\n",
        "        plt.bar(center, hist, width=0.03)\n",
        "        plt.plot((np.min(data['Steering']), np.max(data['Steering'])), (samplesPerBin, samplesPerBin))\n",
        "        plt.title('Balanced Data')\n",
        "        plt.xlabel('Steering Angle')\n",
        "        plt.ylabel('No of Samples')\n",
        "        plt.show()\n",
        "    return data\n",
        "\n",
        "#### STEP 3 - PREPARE FOR PROCESSING\n",
        "def loadData(path, data):\n",
        "  imagesPath = []\n",
        "  steering = []\n",
        "  for i in range(len(data)):\n",
        "    indexed_data = data.iloc[i]\n",
        "    imagesPath.append( os.path.join(path,indexed_data[0]))\n",
        "    steering.append(float(indexed_data[1]))\n",
        "  imagesPath = np.asarray(imagesPath)\n",
        "  steering = np.asarray(steering)\n",
        "  return imagesPath, steering\n",
        "\n",
        "\n",
        "#### STEP 5 - AUGMENT DATA\n",
        "def augmentImage(imgPath,steering):\n",
        "    img =  mpimg.imread(imgPath)\n",
        "    if np.random.rand() < 0.5:\n",
        "        pan = iaa.Affine(translate_percent={\"x\": (-0.1, 0.1), \"y\": (-0.1, 0.1)})\n",
        "        img = pan.augment_image(img)\n",
        "    if np.random.rand() < 0.5:\n",
        "        zoom = iaa.Affine(scale=(1, 1.2))\n",
        "        img = zoom.augment_image(img)\n",
        "    if np.random.rand() < 0.5:\n",
        "        brightness = iaa.Multiply((0.5, 1.2))\n",
        "        img = brightness.augment_image(img)\n",
        "    if np.random.rand() < 0.5:\n",
        "        img = cv2.flip(img, 1)\n",
        "        steering = -steering\n",
        "    return img, steering\n",
        "\n",
        "# imgRe,st = augmentImage('DataCollected/IMG18/Image_1601839810289305.jpg',0)\n",
        "# #mpimg.imsave('Result.jpg',imgRe)\n",
        "# plt.imshow(imgRe)\n",
        "# plt.show()\n",
        "\n",
        "#### STEP 6 - PREPROCESS\n",
        "def preProcess(img):\n",
        "    img = img[54:120,:,:]\n",
        "    img = cv2.cvtColor(img, cv2.COLOR_RGB2YUV)\n",
        "    img = cv2.GaussianBlur(img,  (3, 3), 0)\n",
        "    img = cv2.resize(img, (200, 66))\n",
        "    img = img/255\n",
        "    return img\n",
        "\n",
        "# imgRe = preProcess(mpimg.imread('DataCollected/IMG18/Image_1601839810289305.jpg'))\n",
        "# # mpimg.imsave('Result.jpg',imgRe)\n",
        "# plt.imshow(imgRe)\n",
        "# plt.show()\n",
        "\n",
        "#### STEP 7 - CREATE MODEL\n",
        "def createModel():\n",
        "  model = Sequential()\n",
        "\n",
        "  model.add(Convolution2D(24, (5, 5), (2, 2), input_shape=(66, 200, 3), activation='elu'))\n",
        "  model.add(Convolution2D(36, (5, 5), (2, 2), activation='elu'))\n",
        "  model.add(Convolution2D(48, (5, 5), (2, 2), activation='elu'))\n",
        "  model.add(Convolution2D(64, (3, 3), activation='elu'))\n",
        "  model.add(Convolution2D(64, (3, 3), activation='elu'))\n",
        "\n",
        "  model.add(Flatten())\n",
        "  model.add(Dense(100, activation = 'elu'))\n",
        "  model.add(Dense(50, activation = 'elu'))\n",
        "  model.add(Dense(10, activation = 'elu'))\n",
        "  model.add(Dense(1))\n",
        "\n",
        "  model.compile(Adam(learning_rate=0.0001),loss='mse')\n",
        "  return model\n",
        "\n",
        "#### STEP 8 - TRAINNING\n",
        "def dataGen(imagesPath, steeringList, batchSize, trainFlag):\n",
        "    while True:\n",
        "        imgBatch = []\n",
        "        steeringBatch = []\n",
        "\n",
        "        for i in range(batchSize):\n",
        "            index = random.randint(0, len(imagesPath) - 1)\n",
        "            if trainFlag:\n",
        "                img, steering = augmentImage(imagesPath[index], steeringList[index])\n",
        "            else:\n",
        "                img = mpimg.imread(imagesPath[index])\n",
        "                steering = steeringList[index]\n",
        "            img = preProcess(img)\n",
        "            imgBatch.append(img)\n",
        "            steeringBatch.append(steering)\n",
        "        yield (np.asarray(imgBatch),np.asarray(steeringBatch))"
      ]
    },
    {
      "cell_type": "code",
      "source": [
        "#importing collected data from google drive \n",
        "from google.colab import drive\n",
        "drive.mount('/content/drive/')"
      ],
      "metadata": {
        "colab": {
          "base_uri": "https://localhost:8080/"
        },
        "id": "IAts4_y4DWtw",
        "outputId": "2967e335-1af8-4eb3-84d4-2e59338b2960"
      },
      "execution_count": null,
      "outputs": [
        {
          "output_type": "stream",
          "name": "stdout",
          "text": [
            "Drive already mounted at /content/drive/; to attempt to forcibly remount, call drive.mount(\"/content/drive/\", force_remount=True).\n"
          ]
        }
      ]
    },
    {
      "cell_type": "code",
      "source": [
        "print('Setting UP')\n",
        "import os\n",
        "os.environ['TF_CPP_MIN_LOG_LEVEL'] = '3'\n",
        "from sklearn.model_selection import train_test_split\n",
        "#from utlis import *\n",
        "\n",
        "\n",
        "#### STEP 1 - INITIALIZE DATA'\n",
        "path = '/content/drive/MyDrive/BOT_DATA '\n",
        "data = importDataInfo(path)\n",
        "print(data.head())"
      ],
      "metadata": {
        "colab": {
          "base_uri": "https://localhost:8080/"
        },
        "id": "tagNI8UDEnH6",
        "outputId": "af0c6604-2e37-493a-b0a4-16b3bdb201ad"
      },
      "execution_count": null,
      "outputs": [
        {
          "output_type": "stream",
          "name": "stdout",
          "text": [
            "Setting UP\n",
            "1:773 2:611 3:1190 4:671 5:664 6:695  \n",
            "Total Images Imported 4604\n",
            "                            Center  Steering\n",
            "0  IMG1/Image_1664724445030133.jpg       0.0\n",
            "1   IMG1/Image_166472444507728.jpg       0.0\n",
            "2  IMG1/Image_1664724445115743.jpg       0.0\n",
            "3  IMG1/Image_1664724445171555.jpg       0.0\n",
            "4  IMG1/Image_1664724445193869.jpg       0.0\n"
          ]
        }
      ]
    },
    {
      "cell_type": "code",
      "source": [
        "#path created has majority path straight so max no of images has steering angle 0 \n",
        "#if the data is not balanced then model will generalize to move straight all the time \n",
        "\n",
        "#### STEP 2 - VISUALIZE AND BALANCE DATA\n",
        "data = balanceData(data,display=True)\n"
      ],
      "metadata": {
        "colab": {
          "base_uri": "https://localhost:8080/",
          "height": 609
        },
        "id": "o62oqruAFNnE",
        "outputId": "97fc51de-b8b3-4929-d9d5-f8e3d6bc4776"
      },
      "execution_count": null,
      "outputs": [
        {
          "output_type": "display_data",
          "data": {
            "text/plain": [
              "<Figure size 432x288 with 1 Axes>"
            ],
            "image/png": "[encoded data removed]"
          },
          "metadata": {
            "needs_background": "light"
          }
        },
        {
          "output_type": "stream",
          "name": "stdout",
          "text": [
            "Removed Images: 2912\n",
            "Remaining Images: 1692\n"
          ]
        },
        {
          "output_type": "display_data",
          "data": {
            "text/plain": [
              "<Figure size 432x288 with 1 Axes>"
            ],
            "image/png": "[encoded data removed]"
          },
          "metadata": {
            "needs_background": "light"
          }
        }
      ]
    },
    {
      "cell_type": "code",
      "source": [
        "#### STEP 3 - PREPARE FOR PROCESSING\n",
        "imagesPath, steerings = loadData(path,data)\n",
        "\n"
      ],
      "metadata": {
        "id": "bZbn09QEFQiC"
      },
      "execution_count": null,
      "outputs": []
    },
    {
      "cell_type": "code",
      "source": [
        "#### STEP 4 - SPLIT FOR TRAINING AND VALIDATION\n",
        "xTrain, xVal, yTrain, yVal = train_test_split(imagesPath, steerings,\n",
        "                                              test_size=0.2,random_state=10)\n",
        "print('Total Training Images: ',len(xTrain))\n",
        "print('Total Validation Images: ',len(xVal))\n"
      ],
      "metadata": {
        "colab": {
          "base_uri": "https://localhost:8080/"
        },
        "id": "x4cA5YZSFTnE",
        "outputId": "4902057c-ce3d-40f0-e02f-ff81838c4d2d"
      },
      "execution_count": null,
      "outputs": [
        {
          "output_type": "stream",
          "name": "stdout",
          "text": [
            "Total Training Images:  1353\n",
            "Total Validation Images:  339\n"
          ]
        }
      ]
    },
    {
      "cell_type": "code",
      "execution_count": null,
      "metadata": {
        "id": "y8YBziPLk_Ej",
        "colab": {
          "base_uri": "https://localhost:8080/"
        },
        "outputId": "9795bec4-79da-4b90-e25f-62c02592704d"
      },
      "outputs": [
        {
          "output_type": "stream",
          "name": "stderr",
          "text": [
            "WARNING:tensorflow:From /usr/local/lib/python3.7/dist-packages/tensorflow/python/ops/init_ops.py:1251: calling VarianceScaling.__init__ (from tensorflow.python.ops.init_ops) with dtype is deprecated and will be removed in a future version.\n",
            "Instructions for updating:\n",
            "Call initializer instance with the dtype argument instead of passing it to the constructor\n"
          ]
        }
      ],
      "source": [
        "#### STEP 5 - AUGMENT DATA\n",
        "\n",
        "#### STEP 6 - PREPROCESS\n",
        "\n",
        "#### STEP 7 - CREATE MODEL\n",
        "model = createModel()"
      ]
    },
    {
      "cell_type": "code",
      "source": [
        "#### STEP 8 - TRAINNING\n",
        "history = model.fit(dataGen(xTrain, yTrain, 100, 1),\n",
        "                                  steps_per_epoch=100,\n",
        "                                  epochs=10,\n",
        "                                  validation_data=dataGen(xVal, yVal, 50, 0),\n",
        "                                  validation_steps=50)"
      ],
      "metadata": {
        "colab": {
          "base_uri": "https://localhost:8080/"
        },
        "id": "DWzWGXgEFZb4",
        "outputId": "92f2712e-e440-4494-b274-86fd5dc88c39"
      },
      "execution_count": null,
      "outputs": [
        {
          "output_type": "stream",
          "name": "stdout",
          "text": [
            "Epoch 1/10\n",
            "100/100 [==============================] - 462s 5s/step - loss: 0.3136 - val_loss: 0.2549\n",
            "Epoch 2/10\n",
            "100/100 [==============================] - 96s 961ms/step - loss: 0.2770 - val_loss: 0.2535\n",
            "Epoch 3/10\n",
            "100/100 [==============================] - 95s 950ms/step - loss: 0.2621 - val_loss: 0.2494\n",
            "Epoch 4/10\n",
            "100/100 [==============================] - 91s 915ms/step - loss: 0.2606 - val_loss: 0.2763\n",
            "Epoch 5/10\n",
            "100/100 [==============================] - 95s 953ms/step - loss: 0.2529 - val_loss: 0.2811\n",
            "Epoch 6/10\n",
            "100/100 [==============================] - 95s 947ms/step - loss: 0.2470 - val_loss: 0.2883\n",
            "Epoch 7/10\n",
            "100/100 [==============================] - 92s 916ms/step - loss: 0.2482 - val_loss: 0.2450\n",
            "Epoch 8/10\n",
            "100/100 [==============================] - 95s 948ms/step - loss: 0.2470 - val_loss: 0.2525\n",
            "Epoch 9/10\n",
            "100/100 [==============================] - 92s 924ms/step - loss: 0.2548 - val_loss: 0.2420\n",
            "Epoch 10/10\n",
            "100/100 [==============================] - 95s 953ms/step - loss: 0.2425 - val_loss: 0.2460\n"
          ]
        }
      ]
    },
    {
      "cell_type": "code",
      "source": [
        "#### STEP 9 - SAVE THE MODEL\n",
        "model.save('model_114.h5')\n",
        "print('Model Saved')"
      ],
      "metadata": {
        "colab": {
          "base_uri": "https://localhost:8080/"
        },
        "id": "gJmrkn2VFbAy",
        "outputId": "79e10996-ba28-4098-b234-423a0e4facf3"
      },
      "execution_count": null,
      "outputs": [
        {
          "output_type": "stream",
          "name": "stdout",
          "text": [
            "Model Saved\n"
          ]
        }
      ]
    },
    {
      "cell_type": "code",
      "source": [
        "#### STEP 10 - PLOT THE RESULTS\n",
        "plt.plot(history.history['loss'])\n",
        "plt.plot(history.history['val_loss'])\n",
        "plt.legend(['Training', 'Validation'])\n",
        "plt.title('Loss')\n",
        "plt.xlabel('Epoch')\n",
        "plt.show()"
      ],
      "metadata": {
        "colab": {
          "base_uri": "https://localhost:8080/",
          "height": 295
        },
        "id": "ONxMwSecFZmn",
        "outputId": "8fb37f96-fee9-4756-a759-5dfeac98d1f3"
      },
      "execution_count": null,
      "outputs": [
        {
          "output_type": "display_data",
          "data": {
            "text/plain": [
              "<Figure size 432x288 with 1 Axes>"
            ],
            "image/png": "[encoded data removed]"
          },
          "metadata": {
            "needs_background": "light"
          }
        }
      ]
    }
  ],
  "metadata": {
    "colab": {
      "provenance": [],
      "collapsed_sections": []
    },
    "kernelspec": {
      "display_name": "Python 3",
      "name": "python3"
    },
    "language_info": {
      "name": "python"
    },
    "accelerator": "GPU"
  },
  "nbformat": 4,
  "nbformat_minor": 0
}